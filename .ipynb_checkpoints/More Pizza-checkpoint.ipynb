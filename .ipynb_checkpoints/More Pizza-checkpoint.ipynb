{
 "cells": [
  {
   "cell_type": "code",
   "execution_count": 1,
   "metadata": {},
   "outputs": [],
   "source": [
    "# s number of pizza slices (int)\n",
    "# t number of types of pizza (int)\n",
    "# d number of slices of pizza per type (dict)\n",
    "# x output number of types of pizza (int)\n",
    "# y types of pizzas orders (list)"
   ]
  },
  {
   "cell_type": "code",
   "execution_count": 19,
   "metadata": {},
   "outputs": [],
   "source": [
    "from pathlib import Path\n",
    "\n",
    "# load example file \n",
    "data_path = Path('./practice_round/datasets')\n",
    "\n",
    "\n",
    "# Read first line into s,t\n",
    "# Read second line into t dict values\n",
    "data = []\n",
    "with open(data_path/'a_example.in') as f:\n",
    "    for line in f:\n",
    "        data.append(line)"
   ]
  },
  {
   "cell_type": "code",
   "execution_count": null,
   "metadata": {},
   "outputs": [],
   "source": []
  },
  {
   "cell_type": "code",
   "execution_count": 7,
   "metadata": {},
   "outputs": [
    {
     "data": {
      "text/plain": [
       "WindowsPath('C:/Users/nneptune/Documents/Udacity/dl2020')"
      ]
     },
     "execution_count": 7,
     "metadata": {},
     "output_type": "execute_result"
    }
   ],
   "source": [
    "with open(data_path/'a_example.in') as f:\n",
    "    for line in f:\n",
    "        \n",
    "    data = {}\n",
    "    for line in f:\n",
    "        key, value = line.strip().split('=')\n",
    "        data[key] = value"
   ]
  },
  {
   "cell_type": "code",
   "execution_count": null,
   "metadata": {},
   "outputs": [],
   "source": []
  }
 ],
 "metadata": {
  "kernelspec": {
   "display_name": "Python 3",
   "language": "python",
   "name": "python3"
  },
  "language_info": {
   "codemirror_mode": {
    "name": "ipython",
    "version": 3
   },
   "file_extension": ".py",
   "mimetype": "text/x-python",
   "name": "python",
   "nbconvert_exporter": "python",
   "pygments_lexer": "ipython3",
   "version": "3.7.3"
  }
 },
 "nbformat": 4,
 "nbformat_minor": 2
}
