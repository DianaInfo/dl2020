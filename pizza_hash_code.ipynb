{
 "cells": [
  {
   "cell_type": "markdown",
   "metadata": {
    "colab_type": "text",
    "id": "view-in-github"
   },
   "source": [
    "<a href=\"https://colab.research.google.com/github/RehabEmam228/dl2020/blob/master/pizza_hash_code.ipynb\" target=\"_parent\"><img src=\"https://colab.research.google.com/assets/colab-badge.svg\" alt=\"Open In Colab\"/></a>"
   ]
  },
  {
   "cell_type": "markdown",
   "metadata": {
    "colab_type": "text",
    "id": "ZJPdyjA6H67D"
   },
   "source": [
    "#Read data"
   ]
  },
  {
   "cell_type": "code",
   "execution_count": null,
   "metadata": {
    "colab": {},
    "colab_type": "code",
    "id": "zBNqYfzV3rcj"
   },
   "outputs": [],
   "source": [
    "with open('/content/drive/My Drive/a_example.in', 'r') as f:\n",
    "  example = f.read()\n"
   ]
  },
  {
   "cell_type": "code",
   "execution_count": 63,
   "metadata": {
    "colab": {
     "base_uri": "https://localhost:8080/",
     "height": 34
    },
    "colab_type": "code",
    "id": "285jD54N4V-Z",
    "outputId": "7082d6f9-d877-49b5-8ba8-5e112afea00d"
   },
   "outputs": [
    {
     "data": {
      "text/plain": [
       "'17 4\\n2 5 6 8\\n'"
      ]
     },
     "execution_count": 63,
     "metadata": {
      "tags": []
     },
     "output_type": "execute_result"
    }
   ],
   "source": [
    "example"
   ]
  },
  {
   "cell_type": "markdown",
   "metadata": {
    "colab_type": "text",
    "id": "VfVYPfZGIB-Y"
   },
   "source": [
    "#Clean data"
   ]
  },
  {
   "cell_type": "code",
   "execution_count": 84,
   "metadata": {
    "colab": {
     "base_uri": "https://localhost:8080/",
     "height": 67
    },
    "colab_type": "code",
    "id": "AuOW9IAZ52tB",
    "outputId": "17afeb79-a87a-434f-efaf-72ce51d0ca60"
   },
   "outputs": [
    {
     "name": "stdout",
     "output_type": "stream",
     "text": [
      "17 4\n",
      "2 5 6 8\n",
      "\n"
     ]
    }
   ],
   "source": [
    "arr=[]\n",
    "h = example.split('''\\n''')\n",
    "#print(len(h))\n",
    "for l in h:\n",
    "  print(l)\n",
    "  arr.append(l)\n"
   ]
  },
  {
   "cell_type": "code",
   "execution_count": null,
   "metadata": {
    "colab": {},
    "colab_type": "code",
    "id": "1aCpKlCzEYFd"
   },
   "outputs": [],
   "source": [
    "first_line= list(arr[0].split(\" \"))\n",
    "second_line= list(arr[1].split(\" \"))"
   ]
  },
  {
   "cell_type": "code",
   "execution_count": 86,
   "metadata": {
    "colab": {
     "base_uri": "https://localhost:8080/",
     "height": 50
    },
    "colab_type": "code",
    "id": "aRAkMtmiHXUc",
    "outputId": "1faf56b9-cf1f-48df-e691-13477b978f3c"
   },
   "outputs": [
    {
     "name": "stdout",
     "output_type": "stream",
     "text": [
      "['17', '4']\n",
      "['2', '5', '6', '8']\n"
     ]
    }
   ],
   "source": [
    "print(x)\n",
    "print(y)"
   ]
  }
 ],
 "metadata": {
  "accelerator": "GPU",
  "colab": {
   "authorship_tag": "ABX9TyOC9OZ3mgDQQIHxUQVakGA8",
   "include_colab_link": true,
   "mount_file_id": "1zzDmpzgwMc1EWU-XPNFX28iJQL9vstrC",
   "name": "pizza_hash_code.ipynb",
   "provenance": []
  },
  "kernelspec": {
   "display_name": "Python 3",
   "language": "python",
   "name": "python3"
  },
  "language_info": {
   "codemirror_mode": {
    "name": "ipython",
    "version": 3
   },
   "file_extension": ".py",
   "mimetype": "text/x-python",
   "name": "python",
   "nbconvert_exporter": "python",
   "pygments_lexer": "ipython3",
   "version": "3.7.0"
  }
 },
 "nbformat": 4,
 "nbformat_minor": 2
}
