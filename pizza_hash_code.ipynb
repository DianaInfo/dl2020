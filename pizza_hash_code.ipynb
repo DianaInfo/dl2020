{
  "nbformat": 4,
  "nbformat_minor": 0,
  "metadata": {
    "colab": {
      "name": "pizza_hash_code.ipynb",
      "provenance": [],
      "mount_file_id": "1zzDmpzgwMc1EWU-XPNFX28iJQL9vstrC",
      "authorship_tag": "ABX9TyOC9OZ3mgDQQIHxUQVakGA8",
      "include_colab_link": true
    },
    "kernelspec": {
      "name": "python3",
      "display_name": "Python 3"
    },
    "accelerator": "GPU"
  },
  "cells": [
    {
      "cell_type": "markdown",
      "metadata": {
        "id": "view-in-github",
        "colab_type": "text"
      },
      "source": [
        "<a href=\"https://colab.research.google.com/github/RehabEmam228/dl2020/blob/master/pizza_hash_code.ipynb\" target=\"_parent\"><img src=\"https://colab.research.google.com/assets/colab-badge.svg\" alt=\"Open In Colab\"/></a>"
      ]
    },
    {
      "cell_type": "markdown",
      "metadata": {
        "id": "ZJPdyjA6H67D",
        "colab_type": "text"
      },
      "source": [
        "#Read data"
      ]
    },
    {
      "cell_type": "code",
      "metadata": {
        "id": "zBNqYfzV3rcj",
        "colab_type": "code",
        "colab": {}
      },
      "source": [
        "with open('/content/drive/My Drive/a_example.in', 'r') as f:\n",
        "  example = f.read()\n"
      ],
      "execution_count": 0,
      "outputs": []
    },
    {
      "cell_type": "code",
      "metadata": {
        "id": "285jD54N4V-Z",
        "colab_type": "code",
        "colab": {
          "base_uri": "https://localhost:8080/",
          "height": 34
        },
        "outputId": "7082d6f9-d877-49b5-8ba8-5e112afea00d"
      },
      "source": [
        "example"
      ],
      "execution_count": 63,
      "outputs": [
        {
          "output_type": "execute_result",
          "data": {
            "text/plain": [
              "'17 4\\n2 5 6 8\\n'"
            ]
          },
          "metadata": {
            "tags": []
          },
          "execution_count": 63
        }
      ]
    },
    {
      "cell_type": "markdown",
      "metadata": {
        "id": "VfVYPfZGIB-Y",
        "colab_type": "text"
      },
      "source": [
        "#Clean data"
      ]
    },
    {
      "cell_type": "code",
      "metadata": {
        "id": "AuOW9IAZ52tB",
        "colab_type": "code",
        "colab": {
          "base_uri": "https://localhost:8080/",
          "height": 67
        },
        "outputId": "17afeb79-a87a-434f-efaf-72ce51d0ca60"
      },
      "source": [
        "arr=[]\n",
        "h = example.split('''\\n''')\n",
        "#print(len(h))\n",
        "for l in h:\n",
        "  print(l)\n",
        "  arr.append(l)\n"
      ],
      "execution_count": 84,
      "outputs": [
        {
          "output_type": "stream",
          "text": [
            "17 4\n",
            "2 5 6 8\n",
            "\n"
          ],
          "name": "stdout"
        }
      ]
    },
    {
      "cell_type": "code",
      "metadata": {
        "id": "1aCpKlCzEYFd",
        "colab_type": "code",
        "colab": {}
      },
      "source": [
        "first_line= list(arr[0].split(\" \"))\n",
        "second_line= list(arr[1].split(\" \"))"
      ],
      "execution_count": 0,
      "outputs": []
    },
    {
      "cell_type": "code",
      "metadata": {
        "id": "aRAkMtmiHXUc",
        "colab_type": "code",
        "colab": {
          "base_uri": "https://localhost:8080/",
          "height": 50
        },
        "outputId": "1faf56b9-cf1f-48df-e691-13477b978f3c"
      },
      "source": [
        "print(x)\n",
        "print(y)"
      ],
      "execution_count": 86,
      "outputs": [
        {
          "output_type": "stream",
          "text": [
            "['17', '4']\n",
            "['2', '5', '6', '8']\n"
          ],
          "name": "stdout"
        }
      ]
    }
  ]
}