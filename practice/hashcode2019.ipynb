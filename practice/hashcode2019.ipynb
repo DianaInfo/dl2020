{
 "cells": [
  {
   "cell_type": "code",
   "execution_count": 1,
   "metadata": {
    "collapsed": true
   },
   "outputs": [],
   "source": [
    "from pathlib import Path\n",
    "import os\n",
    "from ast import literal_eval as make_tuple\n",
    "\n",
    "data_path = Path('./dataset/qualification_round_2019.in')"
   ]
  },
  {
   "cell_type": "code",
   "execution_count": 2,
   "metadata": {
    "collapsed": true
   },
   "outputs": [],
   "source": [
    "def get_data(data_path):\n",
    "    data = {}\n",
    "    for dataset in os.listdir(data_path):\n",
    "        with open(data_path/dataset) as d:\n",
    "            doc_total = d.readline()\n",
    "            data[dataset] = []\n",
    "            for line in d:\n",
    "                data[dataset].append(line.strip().split(' '))\n",
    "    return(data)"
   ]
  },
  {
   "cell_type": "code",
   "execution_count": 3,
   "metadata": {
    "collapsed": true
   },
   "outputs": [],
   "source": [
    "def build_slides(data_file):\n",
    "    \n",
    "    \n",
    "    photo_list = data[data_file]\n",
    "    v_dict = {}\n",
    "    h_dict = {}\n",
    "        \n",
    "    for photo in photo_list:\n",
    "        \n",
    "        if photo[0] == 'V':\n",
    "            v_dict[photo_list.index(photo)]= photo[2:]\n",
    "        \n",
    "        else:\n",
    "            h_dict[photo_list.index(photo)]=photo[2:]\n",
    "        \n",
    "   \n",
    "    v_dict_it = iter(v_dict)\n",
    "    \n",
    "    try:\n",
    "        v_pairs = [(p, next(v_dict_it)) for p in v_dict_it]\n",
    "    except StopIteration:\n",
    "        v_pairs = []\n",
    "    \n",
    "    nv_dict = {}\n",
    "\n",
    "    for keys in v_pairs:\n",
    "        nv_dict[keys] = list(set(v_dict[keys[0]] + v_dict[keys[1]]))\n",
    "\n",
    "    #combined dict\n",
    "    slide_dict = {**nv_dict, **h_dict}\n",
    "  \n",
    "    return (slide_dict)"
   ]
  },
  {
   "cell_type": "code",
   "execution_count": 4,
   "metadata": {
    "collapsed": true
   },
   "outputs": [],
   "source": [
    "def get_score(current_tags, candidate_tags):\n",
    "    \n",
    "    intersection = set(current_tags) & set(candidate_tags)\n",
    "    current_only = list(set(current_tags) - intersection)\n",
    "    candidate_only = list(set(current_tags) - intersection) \n",
    "            \n",
    "    if len(intersection) > 0 and len(current_only) > 0 and len(candidate_only) > 0:\n",
    "        score = min(len(intersection) , len(current_only), len(candidate_only))\n",
    "    else:\n",
    "        score = 0\n",
    "        \n",
    "    return (score)"
   ]
  },
  {
   "cell_type": "code",
   "execution_count": 34,
   "metadata": {
    "collapsed": true
   },
   "outputs": [],
   "source": [
    "def build_slideshow(s_dict):\n",
    "    \n",
    "    slideshow = []\n",
    "    \n",
    "    slideshow.append(list(s_dict)[0])\n",
    "    \n",
    "    tags = s_dict[list(s_dict)[0]]\n",
    "    \n",
    "    s_dict.pop(slideshow[0])\n",
    "\n",
    "    while s_dict:\n",
    "\n",
    "        next_slide = {}  \n",
    "        \n",
    "        for n_key in s_dict:\n",
    "            \n",
    "            if n_key not in slideshow:\n",
    "                score = get_score(tags, s_dict[n_key])\n",
    "                \n",
    "                if len(next_slide) == 0:\n",
    "                    next_slide[str(n_key)] = score\n",
    "                \n",
    "                if score > int(next_slide[list(next_slide)[0]]):\n",
    "                    next_slide[str(n_key)] = score \n",
    "\n",
    "                if score > 0:\n",
    "                    break\n",
    "                \n",
    "        n = len(slideshow)\n",
    "        \n",
    "        if next_slide:\n",
    "            slideshow.append(make_tuple(list(next_slide)[0]))\n",
    "            \n",
    "            tags = s_dict[list(s_dict)[0]]\n",
    "            \n",
    "            s_dict.pop(slideshow[n])\n",
    "            \n",
    "        elif len(s_dict) == 1: \n",
    "            s_dict.pop(list(s_dict)[0])\n",
    "        elif max_score == 0:\n",
    "            s_dict.clear()\n",
    "                \n",
    "    return(slideshow)"
   ]
  },
  {
   "cell_type": "code",
   "execution_count": 37,
   "metadata": {
    "collapsed": true
   },
   "outputs": [],
   "source": [
    "def build_slideshow2(s_dict):\n",
    "    \n",
    "    slideshow = []\n",
    "    \n",
    "    slideshow.append(list(s_dict)[0])\n",
    "    \n",
    "    tags = s_dict[list(s_dict)[0]]\n",
    "    \n",
    "    s_dict.pop(slideshow[0])\n",
    "\n",
    "    next_slide = {}  \n",
    "        \n",
    "    for n_key in s_dict:\n",
    "            \n",
    "        if n_key not in slideshow:\n",
    "            score = get_score(tags, s_dict[n_key])\n",
    "                \n",
    "            if len(next_slide) == 0:\n",
    "                next_slide[str(n_key)] = score\n",
    "                \n",
    "            if score > int(next_slide[list(next_slide)[0]]):\n",
    "                next_slide[str(n_key)] = score \n",
    "\n",
    "            if score > 0:\n",
    "                break\n",
    "                \n",
    "    n = len(slideshow)\n",
    "        \n",
    "    if next_slide:\n",
    "        slideshow.append(make_tuple(list(next_slide)[0]))\n",
    "            \n",
    "        tags = s_dict[list(s_dict)[0]]\n",
    "            \n",
    "        s_dict.pop(slideshow[n])\n",
    "            \n",
    "    elif len(s_dict) == 1: \n",
    "        s_dict.pop(list(s_dict)[0])\n",
    "    elif max_score == 0:\n",
    "        s_dict.clear()\n",
    "                \n",
    "    return(slideshow)"
   ]
  },
  {
   "cell_type": "code",
   "execution_count": 6,
   "metadata": {
    "collapsed": true
   },
   "outputs": [],
   "source": [
    "def write_file(datafile, slideshow_dict):\n",
    "    filename = 'sub_'+datafile\n",
    "    with open(data_path/filename, 'w') as f:\n",
    "        for key in slideshow:\n",
    "            if isinstance(key,int):\n",
    "                key = [key]\n",
    "            k = \" \".join(map(str,key))\n",
    "            f.write(k+'\\n')"
   ]
  },
  {
   "cell_type": "code",
   "execution_count": 7,
   "metadata": {
    "collapsed": false
   },
   "outputs": [
    {
     "name": "stdout",
     "output_type": "stream",
     "text": [
      "Wall time: 660 ms\n"
     ]
    }
   ],
   "source": [
    "%%time \n",
    "data = get_data(data_path)\n",
    "\n",
    "s_dict = build_slides('a_example.txt')\n",
    "    \n",
    "slideshow = build_slideshow2(s_dict)\n",
    "\n",
    "write_file('a_example.txt', slideshow)"
   ]
  },
  {
   "cell_type": "code",
   "execution_count": 8,
   "metadata": {
    "collapsed": false,
    "scrolled": false
   },
   "outputs": [
    {
     "name": "stdout",
     "output_type": "stream",
     "text": [
      "Wall time: 5.35 s\n"
     ]
    }
   ],
   "source": [
    "%%time \n",
    "data = get_data(data_path)\n",
    "\n",
    "s_dict = build_slides('c_memorable_moments.txt')\n",
    "    \n",
    "slideshow = build_slideshow2(s_dict)\n",
    " \n",
    "write_file('c_memorable_moments.txt', slideshow)\n"
   ]
  },
  {
   "cell_type": "code",
   "execution_count": 36,
   "metadata": {
    "collapsed": false
   },
   "outputs": [
    {
     "name": "stdout",
     "output_type": "stream",
     "text": [
      "Wall time: 1min 49s\n"
     ]
    }
   ],
   "source": [
    "%%time \n",
    "data = get_data(data_path)\n",
    "\n",
    "s_dict = build_slides('d_pet_pictures.txt')\n",
    "   \n",
    "slideshow = build_slideshow2(s_dict)\n",
    " \n",
    "write_file('d_pet_pictures.txt', slideshow)"
   ]
  },
  {
   "cell_type": "code",
   "execution_count": 32,
   "metadata": {
    "collapsed": false
   },
   "outputs": [
    {
     "name": "stdout",
     "output_type": "stream",
     "text": [
      "Wall time: 3min 21s\n"
     ]
    }
   ],
   "source": [
    "%%time \n",
    "\n",
    "data = get_data(data_path)\n",
    "\n",
    "s_dict = build_slides('e_shiny_selfies.txt')\n",
    "    \n",
    "slideshow = build_slideshow2(s_dict)\n",
    " \n",
    "write_file('e_shiny_selfies.txt', slideshow)"
   ]
  },
  {
   "cell_type": "code",
   "execution_count": 38,
   "metadata": {
    "collapsed": false
   },
   "outputs": [
    {
     "name": "stdout",
     "output_type": "stream",
     "text": [
      "Wall time: 2min 39s\n"
     ]
    }
   ],
   "source": [
    "%%time \n",
    "data = get_data(data_path)\n",
    "\n",
    "s_dict = build_slides('b_lovely_landscapes.txt')\n",
    "    \n",
    "slideshow = build_slideshow2(s_dict)\n",
    " \n",
    "write_file('b_lovely_landscapes.txt', slideshow)"
   ]
  },
  {
   "cell_type": "code",
   "execution_count": null,
   "metadata": {
    "collapsed": true
   },
   "outputs": [],
   "source": []
  },
  {
   "cell_type": "code",
   "execution_count": null,
   "metadata": {
    "collapsed": true
   },
   "outputs": [],
   "source": [
    "%%time\n",
    "\n",
    "# processing all files one by one\n",
    "\n",
    "data = get_data(data_path)\n",
    "\n",
    "for key in data:\n",
    "\n",
    "    s_dict = build_slides(key)\n",
    "    \n",
    "    slideshow = build_slideshow(s_dict)\n",
    "    \n",
    "    write_file(key, slideshow)\n",
    "    "
   ]
  },
  {
   "cell_type": "code",
   "execution_count": null,
   "metadata": {
    "collapsed": true
   },
   "outputs": [],
   "source": [
    "# old implementation with df\n",
    "\n",
    "import pandas as pd\n",
    "\n",
    "df=pd.DataFrame(photo_list)\n",
    "\n",
    "\n",
    "def slide_builder():\n",
    "    total_H = len(df[df[0]=='H'])\n",
    "    total_V = len(df[df[0]=='V'])\n",
    "    \n",
    "    if total_V % 2 != 0:\n",
    "        total_V = total_V - 1\n",
    "    \n",
    "    total_slides = total_H + total_V\n",
    "    \n",
    "    return(total_slides, slide_photos)"
   ]
  },
  {
   "cell_type": "code",
   "execution_count": null,
   "metadata": {
    "collapsed": true
   },
   "outputs": [],
   "source": [
    "df[\"id\"] = df.index "
   ]
  },
  {
   "cell_type": "code",
   "execution_count": null,
   "metadata": {
    "collapsed": true
   },
   "outputs": [],
   "source": [
    "df_h = df[df[0]=='H']"
   ]
  },
  {
   "cell_type": "code",
   "execution_count": null,
   "metadata": {
    "collapsed": true
   },
   "outputs": [],
   "source": [
    "df_v = df[df[0]=='V']"
   ]
  }
 ],
 "metadata": {
  "kernelspec": {
   "display_name": "Python 3",
   "language": "python",
   "name": "python3"
  },
  "language_info": {
   "codemirror_mode": {
    "name": "ipython",
    "version": 3
   },
   "file_extension": ".py",
   "mimetype": "text/x-python",
   "name": "python",
   "nbconvert_exporter": "python",
   "pygments_lexer": "ipython3",
   "version": "3.4.5"
  }
 },
 "nbformat": 4,
 "nbformat_minor": 2
}
