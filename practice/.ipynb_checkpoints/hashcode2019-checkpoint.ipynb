{
 "cells": [
  {
   "cell_type": "code",
   "execution_count": null,
   "metadata": {},
   "outputs": [],
   "source": [
    "# n number of photos\n",
    "# nv number of vertical photos\n",
    "# nh number of horizontal photos\n",
    "# ...."
   ]
  },
  {
   "cell_type": "code",
   "execution_count": 94,
   "metadata": {},
   "outputs": [],
   "source": [
    "from pathlib import Path\n",
    "import os\n",
    "\n",
    "\n",
    "# load example file \n",
    "data_path = Path('./dataset/qualification_round_2019.in')\n",
    "\n",
    "data = {}\n",
    "for dataset in os.listdir(data_path):\n",
    "    with open(data_path/dataset) as d:\n",
    "        doc_total = d.readline()\n",
    "        data[dataset] = []\n",
    "        for line in d:\n",
    "            data[dataset].append(line.strip().split(' '))\n"
   ]
  },
  {
   "cell_type": "code",
   "execution_count": 97,
   "metadata": {},
   "outputs": [
    {
     "data": {
      "text/plain": [
       "dict_keys(['a_example.txt', 'b_lovely_landscapes.txt', 'c_memorable_moments.txt', 'd_pet_pictures.txt', 'e_shiny_selfies.txt'])"
      ]
     },
     "execution_count": 97,
     "metadata": {},
     "output_type": "execute_result"
    }
   ],
   "source": [
    "data.keys()"
   ]
  },
  {
   "cell_type": "code",
   "execution_count": 98,
   "metadata": {},
   "outputs": [
    {
     "data": {
      "text/plain": [
       "[['H', '3', 'cat', 'beach', 'sun'],\n",
       " ['V', '2', 'selfie', 'smile'],\n",
       " ['V', '2', 'garden', 'selfie'],\n",
       " ['H', '2', 'garden', 'cat']]"
      ]
     },
     "execution_count": 98,
     "metadata": {},
     "output_type": "execute_result"
    }
   ],
   "source": [
    "data['a_example.txt']"
   ]
  },
  {
   "cell_type": "code",
   "execution_count": 211,
   "metadata": {},
   "outputs": [],
   "source": [
    "def build_slides(data_file):\n",
    "    \n",
    "    \n",
    "    photo_list = data[data_file]\n",
    "    v_dict = {}\n",
    "    h_dict = {}\n",
    "        \n",
    "    for photo in photo_list:\n",
    "        \n",
    "        if photo[0] == 'V':\n",
    "            v_dict[photo_list.index(photo)]= photo[2:]\n",
    "        \n",
    "        else:\n",
    "            h_dict[photo_list.index(photo)]=photo[2:]\n",
    "        \n",
    "    # pair up the vertical images randomly\n",
    "    v_pairs = itertools.combinations(v_dict,2)\n",
    "    \n",
    "    nv_dict = {}\n",
    "\n",
    "    for keys in v_pairs:\n",
    "        nv_dict[keys] = list(set(v_dict[keys[0]] + v_dict[keys[1]]))\n",
    "\n",
    "    #combined dict\n",
    "    slide_dict = {**nv_dict, **h_dict}\n",
    "    \n",
    "    return (slide_dict)"
   ]
  },
  {
   "cell_type": "code",
   "execution_count": 244,
   "metadata": {},
   "outputs": [],
   "source": [
    "from itertools import combinations\n",
    "s_dict = build_slides('a_example.txt')"
   ]
  },
  {
   "cell_type": "code",
   "execution_count": 250,
   "metadata": {},
   "outputs": [
    {
     "data": {
      "text/plain": [
       "{(1, 2): ['smile', 'selfie', 'garden', 1],\n",
       " 0: ['cat', 'beach', 'sun', 1],\n",
       " 3: ['garden', 'cat', 1]}"
      ]
     },
     "execution_count": 250,
     "metadata": {},
     "output_type": "execute_result"
    }
   ],
   "source": [
    "s_dict"
   ]
  },
  {
   "cell_type": "code",
   "execution_count": 251,
   "metadata": {},
   "outputs": [
    {
     "ename": "RuntimeError",
     "evalue": "dictionary changed size during iteration",
     "output_type": "error",
     "traceback": [
      "\u001b[1;31m---------------------------------------------------------------------------\u001b[0m",
      "\u001b[1;31mRuntimeError\u001b[0m                              Traceback (most recent call last)",
      "\u001b[1;32m<ipython-input-251-774b1e560c89>\u001b[0m in \u001b[0;36m<module>\u001b[1;34m\u001b[0m\n\u001b[0;32m      3\u001b[0m \u001b[1;31m#slideshow[key] = value\u001b[0m\u001b[1;33m\u001b[0m\u001b[1;33m\u001b[0m\u001b[1;33m\u001b[0m\u001b[0m\n\u001b[0;32m      4\u001b[0m \u001b[1;33m\u001b[0m\u001b[0m\n\u001b[1;32m----> 5\u001b[1;33m \u001b[1;32mfor\u001b[0m \u001b[0mindex\u001b[0m\u001b[1;33m,\u001b[0m \u001b[1;33m(\u001b[0m\u001b[0mkey\u001b[0m\u001b[1;33m,\u001b[0m \u001b[0mvalues\u001b[0m\u001b[1;33m)\u001b[0m \u001b[1;32min\u001b[0m \u001b[0menumerate\u001b[0m\u001b[1;33m(\u001b[0m\u001b[0ms_dict\u001b[0m\u001b[1;33m.\u001b[0m\u001b[0mitems\u001b[0m\u001b[1;33m(\u001b[0m\u001b[1;33m)\u001b[0m\u001b[1;33m)\u001b[0m\u001b[1;33m:\u001b[0m\u001b[1;33m\u001b[0m\u001b[1;33m\u001b[0m\u001b[0m\n\u001b[0m\u001b[0;32m      6\u001b[0m     \u001b[1;32mif\u001b[0m \u001b[0mindex\u001b[0m \u001b[1;33m==\u001b[0m \u001b[1;36m0\u001b[0m\u001b[1;33m:\u001b[0m\u001b[1;33m\u001b[0m\u001b[1;33m\u001b[0m\u001b[0m\n\u001b[0;32m      7\u001b[0m         \u001b[0mslideshow\u001b[0m\u001b[1;33m[\u001b[0m\u001b[0mkey\u001b[0m\u001b[1;33m]\u001b[0m \u001b[1;33m=\u001b[0m \u001b[0mvalues\u001b[0m\u001b[1;33m\u001b[0m\u001b[1;33m\u001b[0m\u001b[0m\n",
      "\u001b[1;31mRuntimeError\u001b[0m: dictionary changed size during iteration"
     ]
    }
   ],
   "source": [
    "slideshow = {}\n",
    "#key, value = s_dict.popitem()\n",
    "#slideshow[key] = value\n",
    "\n",
    "for index, (key, values) in enumerate(s_dict.items()):\n",
    "    if index == 0:\n",
    "        slideshow[key] = values\n",
    "        s_dict.pop(key)\n",
    "    else:\n",
    "        for n_key, n_values in s_dict.items():\n",
    "            # get tags\n",
    "            n = len(slideshow)\n",
    "            \n",
    "            previous_tags = list(slideshow.values())[n-1]\n",
    "            \n",
    "            intersection = set(n_values) & set(previous_tags)\n",
    "            previous_only = list(set(previous_tags) - intersection)\n",
    "            current_only = list(set(n_values) - intersection)        \n",
    "        \n",
    "            candidates = {}\n",
    "            # add all pictures meeting conditions in list\n",
    "        \n",
    "            if len(intersection) > 0 and len(previous_only) > 0 and len(current_only) > 0:\n",
    "                candidates[n_key] = n_values\n",
    "                score = min(len(intersection) , len(previous_only), len(current_only))\n",
    "                candidates[n_key].append(score)\n",
    "        \n",
    "        \n",
    "        # get the candidate with max score and add as next slide\n",
    "        score_list = []\n",
    "        for k,v in candidates.items():\n",
    "            score_list.append(candidates[k][-1])\n",
    "        \n",
    "               \n",
    "        if score_list: \n",
    "            max_score = max(score_list)\n",
    "            next_list = [k for k in candidates.keys() if candidates[k][-1] == max_score]\n",
    "            slideshow[k] = s_dict[k]\n",
    "            s_dict.pop(k)\n",
    "            \n",
    "\n",
    "    \n"
   ]
  },
  {
   "cell_type": "code",
   "execution_count": 247,
   "metadata": {},
   "outputs": [
    {
     "data": {
      "text/plain": [
       "{(1, 2): ['smile', 'selfie', 'garden', 1], 3: ['garden', 'cat', 1]}"
      ]
     },
     "execution_count": 247,
     "metadata": {},
     "output_type": "execute_result"
    }
   ],
   "source": [
    "slideshow"
   ]
  },
  {
   "cell_type": "code",
   "execution_count": 249,
   "metadata": {},
   "outputs": [
    {
     "data": {
      "text/plain": [
       "{(1, 2): ['smile', 'selfie', 'garden', 1],\n",
       " 0: ['cat', 'beach', 'sun', 1],\n",
       " 3: ['garden', 'cat', 1]}"
      ]
     },
     "execution_count": 249,
     "metadata": {},
     "output_type": "execute_result"
    }
   ],
   "source": [
    "s_dict"
   ]
  },
  {
   "cell_type": "code",
   "execution_count": 221,
   "metadata": {},
   "outputs": [],
   "source": [
    "# write output file"
   ]
  },
  {
   "cell_type": "code",
   "execution_count": null,
   "metadata": {},
   "outputs": [],
   "source": []
  },
  {
   "cell_type": "code",
   "execution_count": null,
   "metadata": {},
   "outputs": [],
   "source": [
    "# old implementation with df\n",
    "\n",
    "import pandas as pd\n",
    "\n",
    "df=pd.DataFrame(photo_list)\n",
    "\n",
    "\n",
    "def slide_builder():\n",
    "    total_H = len(df[df[0]=='H'])\n",
    "    total_V = len(df[df[0]=='V'])\n",
    "    \n",
    "    if total_V % 2 != 0:\n",
    "        total_V = total_V - 1\n",
    "    \n",
    "    total_slides = total_H + total_V\n",
    "    \n",
    "    return(total_slides, slide_photos)"
   ]
  },
  {
   "cell_type": "code",
   "execution_count": null,
   "metadata": {},
   "outputs": [],
   "source": [
    "df[\"id\"] = df.index "
   ]
  },
  {
   "cell_type": "code",
   "execution_count": 26,
   "metadata": {},
   "outputs": [
    {
     "data": {
      "text/html": [
       "<div>\n",
       "<style scoped>\n",
       "    .dataframe tbody tr th:only-of-type {\n",
       "        vertical-align: middle;\n",
       "    }\n",
       "\n",
       "    .dataframe tbody tr th {\n",
       "        vertical-align: top;\n",
       "    }\n",
       "\n",
       "    .dataframe thead th {\n",
       "        text-align: right;\n",
       "    }\n",
       "</style>\n",
       "<table border=\"1\" class=\"dataframe\">\n",
       "  <thead>\n",
       "    <tr style=\"text-align: right;\">\n",
       "      <th></th>\n",
       "      <th>0</th>\n",
       "      <th>1</th>\n",
       "      <th>2</th>\n",
       "      <th>3</th>\n",
       "      <th>4</th>\n",
       "      <th>id</th>\n",
       "    </tr>\n",
       "  </thead>\n",
       "  <tbody>\n",
       "    <tr>\n",
       "      <td>0</td>\n",
       "      <td>H</td>\n",
       "      <td>3</td>\n",
       "      <td>cat</td>\n",
       "      <td>beach</td>\n",
       "      <td>sun</td>\n",
       "      <td>0</td>\n",
       "    </tr>\n",
       "    <tr>\n",
       "      <td>1</td>\n",
       "      <td>V</td>\n",
       "      <td>2</td>\n",
       "      <td>selfie</td>\n",
       "      <td>smile</td>\n",
       "      <td>None</td>\n",
       "      <td>1</td>\n",
       "    </tr>\n",
       "    <tr>\n",
       "      <td>2</td>\n",
       "      <td>V</td>\n",
       "      <td>2</td>\n",
       "      <td>garden</td>\n",
       "      <td>selfie</td>\n",
       "      <td>None</td>\n",
       "      <td>2</td>\n",
       "    </tr>\n",
       "    <tr>\n",
       "      <td>3</td>\n",
       "      <td>H</td>\n",
       "      <td>2</td>\n",
       "      <td>garden</td>\n",
       "      <td>cat</td>\n",
       "      <td>None</td>\n",
       "      <td>3</td>\n",
       "    </tr>\n",
       "  </tbody>\n",
       "</table>\n",
       "</div>"
      ],
      "text/plain": [
       "   0  1       2       3     4  id\n",
       "0  H  3     cat   beach   sun   0\n",
       "1  V  2  selfie   smile  None   1\n",
       "2  V  2  garden  selfie  None   2\n",
       "3  H  2  garden     cat  None   3"
      ]
     },
     "execution_count": 26,
     "metadata": {},
     "output_type": "execute_result"
    }
   ],
   "source": [
    "df"
   ]
  },
  {
   "cell_type": "code",
   "execution_count": 22,
   "metadata": {},
   "outputs": [
    {
     "data": {
      "text/html": [
       "<div>\n",
       "<style scoped>\n",
       "    .dataframe tbody tr th:only-of-type {\n",
       "        vertical-align: middle;\n",
       "    }\n",
       "\n",
       "    .dataframe tbody tr th {\n",
       "        vertical-align: top;\n",
       "    }\n",
       "\n",
       "    .dataframe thead th {\n",
       "        text-align: right;\n",
       "    }\n",
       "</style>\n",
       "<table border=\"1\" class=\"dataframe\">\n",
       "  <thead>\n",
       "    <tr style=\"text-align: right;\">\n",
       "      <th></th>\n",
       "      <th>0</th>\n",
       "      <th>1</th>\n",
       "      <th>2</th>\n",
       "      <th>3</th>\n",
       "      <th>4</th>\n",
       "      <th>id</th>\n",
       "    </tr>\n",
       "  </thead>\n",
       "  <tbody>\n",
       "    <tr>\n",
       "      <td>0</td>\n",
       "      <td>H</td>\n",
       "      <td>3</td>\n",
       "      <td>cat</td>\n",
       "      <td>beach</td>\n",
       "      <td>sun</td>\n",
       "      <td>0</td>\n",
       "    </tr>\n",
       "    <tr>\n",
       "      <td>3</td>\n",
       "      <td>H</td>\n",
       "      <td>2</td>\n",
       "      <td>garden</td>\n",
       "      <td>cat</td>\n",
       "      <td>None</td>\n",
       "      <td>3</td>\n",
       "    </tr>\n",
       "  </tbody>\n",
       "</table>\n",
       "</div>"
      ],
      "text/plain": [
       "   0  1       2      3     4  id\n",
       "0  H  3     cat  beach   sun   0\n",
       "3  H  2  garden    cat  None   3"
      ]
     },
     "execution_count": 22,
     "metadata": {},
     "output_type": "execute_result"
    }
   ],
   "source": [
    "df_H = df[df[0]=='H']\n",
    "\n",
    "df_H"
   ]
  },
  {
   "cell_type": "code",
   "execution_count": null,
   "metadata": {},
   "outputs": [],
   "source": [
    "df_vertical = df[df[0]=='V']\n",
    "# make pairs"
   ]
  },
  {
   "cell_type": "code",
   "execution_count": 55,
   "metadata": {},
   "outputs": [
    {
     "data": {
      "text/html": [
       "<div>\n",
       "<style scoped>\n",
       "    .dataframe tbody tr th:only-of-type {\n",
       "        vertical-align: middle;\n",
       "    }\n",
       "\n",
       "    .dataframe tbody tr th {\n",
       "        vertical-align: top;\n",
       "    }\n",
       "\n",
       "    .dataframe thead th {\n",
       "        text-align: right;\n",
       "    }\n",
       "</style>\n",
       "<table border=\"1\" class=\"dataframe\">\n",
       "  <thead>\n",
       "    <tr style=\"text-align: right;\">\n",
       "      <th></th>\n",
       "      <th>0</th>\n",
       "      <th>1</th>\n",
       "      <th>2</th>\n",
       "      <th>3</th>\n",
       "      <th>4</th>\n",
       "      <th>id</th>\n",
       "    </tr>\n",
       "  </thead>\n",
       "  <tbody>\n",
       "    <tr>\n",
       "      <td>1</td>\n",
       "      <td>V</td>\n",
       "      <td>2</td>\n",
       "      <td>selfie</td>\n",
       "      <td>smile</td>\n",
       "      <td>None</td>\n",
       "      <td>1</td>\n",
       "    </tr>\n",
       "    <tr>\n",
       "      <td>2</td>\n",
       "      <td>V</td>\n",
       "      <td>2</td>\n",
       "      <td>garden</td>\n",
       "      <td>selfie</td>\n",
       "      <td>None</td>\n",
       "      <td>2</td>\n",
       "    </tr>\n",
       "  </tbody>\n",
       "</table>\n",
       "</div>"
      ],
      "text/plain": [
       "   0  1       2       3     4  id\n",
       "1  V  2  selfie   smile  None   1\n",
       "2  V  2  garden  selfie  None   2"
      ]
     },
     "execution_count": 55,
     "metadata": {},
     "output_type": "execute_result"
    }
   ],
   "source": [
    "df_vertical"
   ]
  },
  {
   "cell_type": "code",
   "execution_count": null,
   "metadata": {},
   "outputs": [],
   "source": [
    "# keep all keywords once except for None"
   ]
  }
 ],
 "metadata": {
  "kernelspec": {
   "display_name": "Python 3",
   "language": "python",
   "name": "python3"
  },
  "language_info": {
   "codemirror_mode": {
    "name": "ipython",
    "version": 3
   },
   "file_extension": ".py",
   "mimetype": "text/x-python",
   "name": "python",
   "nbconvert_exporter": "python",
   "pygments_lexer": "ipython3",
   "version": "3.7.3"
  }
 },
 "nbformat": 4,
 "nbformat_minor": 2
}
