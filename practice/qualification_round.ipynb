{
 "cells": [
  {
   "cell_type": "code",
   "execution_count": 1,
   "metadata": {
    "scrolled": true
   },
   "outputs": [
    {
     "data": {
      "text/plain": [
       "['4\\n',\n",
       " 'H 3 cat beach sun\\n',\n",
       " 'V 2 selfie smile\\n',\n",
       " 'V 2 garden selfie\\n',\n",
       " 'H 2 garden cat\\n']"
      ]
     },
     "execution_count": 1,
     "metadata": {},
     "output_type": "execute_result"
    }
   ],
   "source": [
    "with open('dataset/a_example.txt', 'r') as f:\n",
    "    lines = f.readlines()\n",
    "    \n",
    "lines"
   ]
  },
  {
   "cell_type": "code",
   "execution_count": 2,
   "metadata": {},
   "outputs": [
    {
     "data": {
      "text/plain": [
       "['H 3 cat beach sun\\n',\n",
       " 'V 2 selfie smile\\n',\n",
       " 'V 2 garden selfie\\n',\n",
       " 'H 2 garden cat\\n']"
      ]
     },
     "execution_count": 2,
     "metadata": {},
     "output_type": "execute_result"
    }
   ],
   "source": [
    "n_images = lines[0].strip()\n",
    "lines = lines[1:]\n",
    "lines"
   ]
  },
  {
   "cell_type": "code",
   "execution_count": 3,
   "metadata": {},
   "outputs": [
    {
     "data": {
      "text/plain": [
       "[['H', ['cat', 'beach', 'sun']],\n",
       " ['V', ['selfie', 'smile']],\n",
       " ['V', ['garden', 'selfie']],\n",
       " ['H', ['garden', 'cat']]]"
      ]
     },
     "execution_count": 3,
     "metadata": {},
     "output_type": "execute_result"
    }
   ],
   "source": [
    "image_infos = []\n",
    "\n",
    "for n_line in range(len(lines)):\n",
    "    line = lines[n_line].strip()\n",
    "    line = line.split()\n",
    "    image_info = [line[0], line[2:]]\n",
    "    image_infos.append(image_info)\n",
    "    \n",
    "image_infos"
   ]
  },
  {
   "cell_type": "code",
   "execution_count": 4,
   "metadata": {},
   "outputs": [
    {
     "name": "stdout",
     "output_type": "stream",
     "text": [
      "[['selfie', 'smile'], ['garden', 'selfie']]\n",
      "[['cat', 'beach', 'sun'], ['garden', 'cat']]\n"
     ]
    }
   ],
   "source": [
    "vertical_imgs = []\n",
    "horizontal_imgs = []\n",
    "\n",
    "for image_info in image_infos:\n",
    "    if image_info[0] == 'V':\n",
    "        vertical_imgs.append(image_info[1])\n",
    "    elif image_info[0] == 'H':\n",
    "        horizontal_imgs.append(image_info[1])\n",
    "        \n",
    "print(vertical_imgs)\n",
    "print(horizontal_imgs)"
   ]
  },
  {
   "cell_type": "code",
   "execution_count": 12,
   "metadata": {},
   "outputs": [],
   "source": [
    "# calculate fit of 2 vertical images\n",
    "def calculateFitVertImgs(firstImg, secImg):\n",
    "    first_img_bigger = True if len(firstImg) >= len(secImg) else False\n",
    "    moreTagsImg = firstImg if first_img_bigger else secImg\n",
    "    lessTagsImg = firstImg if not first_img_bigger else secImg\n",
    "    \n",
    "    n_common_tags = 0\n",
    "    \n",
    "    for lessTagsImg_tag in lessTagsImg:\n",
    "        if lessTagsImg_tag in moreTagsImg:\n",
    "            n_common_tags += 1\n",
    "    \n",
    "    if n_common_tags == len(lessTagsImg) and len(lessTagsImg) == len(moreTagsImg):\n",
    "        return 0\n",
    "    \n",
    "    return n_common_tags"
   ]
  },
  {
   "cell_type": "code",
   "execution_count": 13,
   "metadata": {},
   "outputs": [
    {
     "data": {
      "text/plain": [
       "1"
      ]
     },
     "execution_count": 13,
     "metadata": {},
     "output_type": "execute_result"
    }
   ],
   "source": [
    "calculateFitVertImgs(vertical_imgs[0], vertical_imgs[1])"
   ]
  },
  {
   "cell_type": "code",
   "execution_count": 23,
   "metadata": {},
   "outputs": [
    {
     "name": "stdout",
     "output_type": "stream",
     "text": [
      "[1, 1]\n"
     ]
    }
   ],
   "source": [
    "vert_fit = []\n",
    "for n_vert_img in range(len(vertical_imgs)):\n",
    "    fit = calculateFitVertImgs(vertical_imgs[n_vert_img], vertical_imgs[(n_vert_img+1)% len(vertical_imgs)])\n",
    "    vert_fit.append(fit)\n",
    "\n",
    "print(vert_fit)"
   ]
  },
  {
   "cell_type": "code",
   "execution_count": null,
   "metadata": {},
   "outputs": [],
   "source": [
    "hor_fit = []\n",
    "for n_hor_img in range(len(horizontal_imgs)):\n",
    "    fit = calculateFitVertImgs(horizontal_imgs[n_hor_img], horizontal_imgs[(n_hor_img+1)% len(horizontal_imgs)])\n",
    "    hor_fit.append(fit)\n"
   ]
  }
 ],
 "metadata": {
  "kernelspec": {
   "display_name": "Python 3",
   "language": "python",
   "name": "python3"
  },
  "language_info": {
   "codemirror_mode": {
    "name": "ipython",
    "version": 3
   },
   "file_extension": ".py",
   "mimetype": "text/x-python",
   "name": "python",
   "nbconvert_exporter": "python",
   "pygments_lexer": "ipython3",
   "version": "3.7.4"
  }
 },
 "nbformat": 4,
 "nbformat_minor": 2
}
