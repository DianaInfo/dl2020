{
 "cells": [
  {
   "cell_type": "code",
   "execution_count": 1,
   "metadata": {
    "scrolled": true
   },
   "outputs": [
    {
     "data": {
      "text/plain": [
       "['4\\n',\n",
       " 'H 3 cat beach sun\\n',\n",
       " 'V 2 selfie smile\\n',\n",
       " 'V 2 garden selfie\\n',\n",
       " 'H 2 garden cat\\n']"
      ]
     },
     "execution_count": 1,
     "metadata": {},
     "output_type": "execute_result"
    }
   ],
   "source": [
    "with open('dataset/a_example.txt', 'r') as f:\n",
    "    lines = f.readlines()\n",
    "    \n",
    "lines"
   ]
  },
  {
   "cell_type": "code",
   "execution_count": 2,
   "metadata": {},
   "outputs": [
    {
     "data": {
      "text/plain": [
       "['H 3 cat beach sun\\n',\n",
       " 'V 2 selfie smile\\n',\n",
       " 'V 2 garden selfie\\n',\n",
       " 'H 2 garden cat\\n']"
      ]
     },
     "execution_count": 2,
     "metadata": {},
     "output_type": "execute_result"
    }
   ],
   "source": [
    "n_images = lines[0][:-2]\n",
    "lines = lines[1:]\n",
    "lines"
   ]
  },
  {
   "cell_type": "code",
   "execution_count": 3,
   "metadata": {},
   "outputs": [
    {
     "data": {
      "text/plain": [
       "[['H', ['cat', 'beach', 'sun']],\n",
       " ['V', ['selfie', 'smile']],\n",
       " ['V', ['garden', 'selfie']],\n",
       " ['H', ['garden', 'cat']]]"
      ]
     },
     "execution_count": 3,
     "metadata": {},
     "output_type": "execute_result"
    }
   ],
   "source": [
    "for n_line in range(len(lines)):\n",
    "    line = lines[n_line][:-1]\n",
    "    line = line.split()\n",
    "    new_line = [line[0], line[2:]]\n",
    "    lines[n_line] = new_line\n",
    "    \n",
    "lines"
   ]
  },
  {
   "cell_type": "code",
   "execution_count": null,
   "metadata": {},
   "outputs": [],
   "source": []
  }
 ],
 "metadata": {
  "kernelspec": {
   "display_name": "Python 3",
   "language": "python",
   "name": "python3"
  },
  "language_info": {
   "codemirror_mode": {
    "name": "ipython",
    "version": 3
   },
   "file_extension": ".py",
   "mimetype": "text/x-python",
   "name": "python",
   "nbconvert_exporter": "python",
   "pygments_lexer": "ipython3",
   "version": "3.7.4"
  }
 },
 "nbformat": 4,
 "nbformat_minor": 2
}
