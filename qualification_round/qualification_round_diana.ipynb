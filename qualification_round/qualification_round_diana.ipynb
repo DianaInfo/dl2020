{
 "cells": [
  {
   "cell_type": "code",
   "execution_count": 8,
   "metadata": {},
   "outputs": [
    {
     "data": {
      "text/plain": [
       "['6 2 7\\n', '1 2 3 6 5 4\\n', '5 2 2\\n', '0 1 2 3 4\\n', '4 3 1\\n', '0 2 3 5\\n']"
      ]
     },
     "execution_count": 8,
     "metadata": {},
     "output_type": "execute_result"
    }
   ],
   "source": [
    "with open('datasets/a_example.txt', 'r') as f:\n",
    "    lines = f.readlines()\n",
    "    \n",
    "lines"
   ]
  },
  {
   "cell_type": "code",
   "execution_count": 9,
   "metadata": {},
   "outputs": [
    {
     "data": {
      "text/plain": [
       "['6 2 7', '1 2 3 6 5 4', '5 2 2', '0 1 2 3 4', '4 3 1', '0 2 3 5']"
      ]
     },
     "execution_count": 9,
     "metadata": {},
     "output_type": "execute_result"
    }
   ],
   "source": [
    "for n_line in range(len(lines)):\n",
    "    lines[n_line] = lines[n_line][:-1]\n",
    "\n",
    "lines"
   ]
  },
  {
   "cell_type": "code",
   "execution_count": 12,
   "metadata": {},
   "outputs": [
    {
     "name": "stdout",
     "output_type": "stream",
     "text": [
      "['6', '2', '7']\n",
      "['1', '2', '3', '6', '5', '4']\n",
      "['5 2 2', '0 1 2 3 4', '4 3 1', '0 2 3 5']\n"
     ]
    }
   ],
   "source": [
    "first_line = lines[0].split()\n",
    "second_line = lines[1].split()\n",
    "library_description = lines[2:]\n",
    "\n",
    "print(first_line)\n",
    "print(second_line)\n",
    "print(library_description)"
   ]
  },
  {
   "cell_type": "code",
   "execution_count": 16,
   "metadata": {},
   "outputs": [],
   "source": [
    "for n_first in range(len(first_line)):\n",
    "    first_line[n_first] = int(first_line[n_first])\n",
    "    \n",
    "for n_sec in range(len(second_line)):\n",
    "    second_line[n_sec] = int(second_line[n_sec])\n",
    "    \n",
    "lib_desc_transformed = []\n",
    "for n_lib in range(int(len(library_description) / 2)):\n",
    "    lib_first_line = library_description[2 * n_lib].split()\n",
    "    lib_book_line = library_description[2 * n_lib + 1].split()\n",
    "    \n",
    "    for n_num in range(len(lib_first_line)):\n",
    "        lib_first_line[n_num] = int(lib_first_line[n_num])\n",
    "    for n_num in range(len(lib_book_line)):\n",
    "        lib_book_line[n_num] = int(lib_book_line[n_num])\n",
    "    \n",
    "    lib_desc_transformed.append([lib_first_line, lib_book_line])"
   ]
  },
  {
   "cell_type": "code",
   "execution_count": 17,
   "metadata": {},
   "outputs": [
    {
     "name": "stdout",
     "output_type": "stream",
     "text": [
      "[6, 2, 7]\n",
      "[1, 2, 3, 6, 5, 4]\n",
      "[[[5, 2, 2], [0, 1, 2, 3, 4]], [[4, 3, 1], [0, 2, 3, 5]]]\n"
     ]
    }
   ],
   "source": [
    "print(first_line)\n",
    "print(second_line)\n",
    "print(lib_desc_transformed)"
   ]
  }
 ],
 "metadata": {
  "kernelspec": {
   "display_name": "Python 3",
   "language": "python",
   "name": "python3"
  },
  "language_info": {
   "codemirror_mode": {
    "name": "ipython",
    "version": 3
   },
   "file_extension": ".py",
   "mimetype": "text/x-python",
   "name": "python",
   "nbconvert_exporter": "python",
   "pygments_lexer": "ipython3",
   "version": "3.7.4"
  }
 },
 "nbformat": 4,
 "nbformat_minor": 2
}
