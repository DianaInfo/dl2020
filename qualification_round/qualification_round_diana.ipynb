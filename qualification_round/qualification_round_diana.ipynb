{
 "cells": [
  {
   "cell_type": "code",
   "execution_count": 1,
   "metadata": {},
   "outputs": [
    {
     "data": {
      "text/plain": [
       "['6 2 7\\n', '1 2 3 6 5 4\\n', '5 2 2\\n', '0 1 2 3 4\\n', '4 3 1\\n', '0 2 3 5\\n']"
      ]
     },
     "execution_count": 1,
     "metadata": {},
     "output_type": "execute_result"
    }
   ],
   "source": [
    "with open('datasets/a_example.txt', 'r') as f:\n",
    "    lines = f.readlines()\n",
    "    \n",
    "lines"
   ]
  },
  {
   "cell_type": "code",
   "execution_count": 2,
   "metadata": {},
   "outputs": [
    {
     "data": {
      "text/plain": [
       "['6 2 7', '1 2 3 6 5 4', '5 2 2', '0 1 2 3 4', '4 3 1', '0 2 3 5']"
      ]
     },
     "execution_count": 2,
     "metadata": {},
     "output_type": "execute_result"
    }
   ],
   "source": [
    "for n_line in range(len(lines)):\n",
    "    lines[n_line] = lines[n_line][:-1]\n",
    "\n",
    "lines"
   ]
  },
  {
   "cell_type": "code",
   "execution_count": 3,
   "metadata": {},
   "outputs": [
    {
     "name": "stdout",
     "output_type": "stream",
     "text": [
      "['6', '2', '7']\n",
      "['1', '2', '3', '6', '5', '4']\n",
      "['5 2 2', '0 1 2 3 4', '4 3 1', '0 2 3 5']\n"
     ]
    }
   ],
   "source": [
    "first_line = lines[0].split()\n",
    "second_line = lines[1].split()\n",
    "library_description = lines[2:]\n",
    "\n",
    "print(first_line)\n",
    "print(second_line)\n",
    "print(library_description)"
   ]
  },
  {
   "cell_type": "code",
   "execution_count": 4,
   "metadata": {},
   "outputs": [],
   "source": [
    "for n_first in range(len(first_line)):\n",
    "    first_line[n_first] = int(first_line[n_first])\n",
    "    \n",
    "for n_sec in range(len(second_line)):\n",
    "    second_line[n_sec] = int(second_line[n_sec])\n",
    "    \n",
    "lib_descr_transf = []\n",
    "for n_lib in range(int(len(library_description) / 2)):\n",
    "    lib_first_line = library_description[2 * n_lib].split()\n",
    "    lib_book_line = library_description[2 * n_lib + 1].split()\n",
    "    \n",
    "    for n_num in range(len(lib_first_line)):\n",
    "        lib_first_line[n_num] = int(lib_first_line[n_num])\n",
    "    for n_num in range(len(lib_book_line)):\n",
    "        lib_book_line[n_num] = int(lib_book_line[n_num])\n",
    "    \n",
    "    lib_descr_transf.append([lib_first_line, lib_book_line])"
   ]
  },
  {
   "cell_type": "code",
   "execution_count": 5,
   "metadata": {},
   "outputs": [
    {
     "name": "stdout",
     "output_type": "stream",
     "text": [
      "[6, 2, 7]\n",
      "[1, 2, 3, 6, 5, 4]\n",
      "[[[5, 2, 2], [0, 1, 2, 3, 4]], [[4, 3, 1], [0, 2, 3, 5]]]\n"
     ]
    }
   ],
   "source": [
    "print(first_line)\n",
    "print(second_line)\n",
    "print(lib_descr_transf)"
   ]
  },
  {
   "cell_type": "code",
   "execution_count": 6,
   "metadata": {},
   "outputs": [],
   "source": [
    "n_books = first_line[0]\n",
    "n_libs = first_line[1]\n",
    "scan_days = first_line[2]\n",
    "\n",
    "book_scores = second_line"
   ]
  },
  {
   "cell_type": "code",
   "execution_count": 7,
   "metadata": {},
   "outputs": [],
   "source": [
    "def getListOfIndizesSortedByHighestValue(n_elements, original_list):\n",
    "    listOfIndizes = []\n",
    "    original_list_copy = original_list.copy()\n",
    "    for n_ele in range(n_elements):\n",
    "        max_val_score_copy = max(original_list_copy)\n",
    "        id_with_highest_score = original_list.index(max_val_score_copy)\n",
    "        original_list_copy.remove(max_val_score_copy)\n",
    "        listOfIndizes.append(id_with_highest_score)\n",
    "    return listOfIndizes"
   ]
  },
  {
   "cell_type": "code",
   "execution_count": 8,
   "metadata": {},
   "outputs": [
    {
     "data": {
      "text/plain": [
       "[3, 4, 5, 2, 1, 0]"
      ]
     },
     "execution_count": 8,
     "metadata": {},
     "output_type": "execute_result"
    }
   ],
   "source": [
    "book_ids_sorted_by_highest_score = getListOfIndizesSortedByHighestValue(n_books, book_scores)\n",
    "\n",
    "book_ids_sorted_by_highest_score"
   ]
  },
  {
   "cell_type": "code",
   "execution_count": 10,
   "metadata": {},
   "outputs": [
    {
     "data": {
      "text/plain": [
       "[3, 10]"
      ]
     },
     "execution_count": 10,
     "metadata": {},
     "output_type": "execute_result"
    }
   ],
   "source": [
    "#creat lib score\n",
    "lib_scores = []\n",
    "for n_lib in range(n_libs):\n",
    "    score = 0\n",
    "    n_books_in_lib = lib_descr_transf[n_lib][0][1]\n",
    "    for n_book in range(n_books_in_lib):\n",
    "        score += book_scores[lib_descr_transf[n_lib][1][n_book]]\n",
    "    lib_scores.append(score)\n",
    "    \n",
    "lib_scores"
   ]
  },
  {
   "cell_type": "code",
   "execution_count": 11,
   "metadata": {},
   "outputs": [
    {
     "data": {
      "text/plain": [
       "[1, 0]"
      ]
     },
     "execution_count": 11,
     "metadata": {},
     "output_type": "execute_result"
    }
   ],
   "source": [
    "lib_ids_sorted_by_highest_score = getListOfIndizesSortedByHighestValue(n_libs, lib_scores)\n",
    "\n",
    "lib_ids_sorted_by_highest_score"
   ]
  },
  {
   "cell_type": "code",
   "execution_count": null,
   "metadata": {},
   "outputs": [],
   "source": []
  }
 ],
 "metadata": {
  "kernelspec": {
   "display_name": "Python 3",
   "language": "python",
   "name": "python3"
  },
  "language_info": {
   "codemirror_mode": {
    "name": "ipython",
    "version": 3
   },
   "file_extension": ".py",
   "mimetype": "text/x-python",
   "name": "python",
   "nbconvert_exporter": "python",
   "pygments_lexer": "ipython3",
   "version": "3.7.4"
  }
 },
 "nbformat": 4,
 "nbformat_minor": 2
}
