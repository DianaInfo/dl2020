{
 "cells": [
  {
   "cell_type": "code",
   "execution_count": 32,
   "metadata": {},
   "outputs": [],
   "source": [
    "def get_data(filepath): \n",
    "    with open('datasets/a_example.txt', 'r') as f:\n",
    "        lines = f.readlines()\n",
    "    \n",
    "    for n_line in range(len(lines)):\n",
    "        lines[n_line] = lines[n_line][:-1]\n",
    "    \n",
    "    \n",
    "    first_line = lines[0].split()\n",
    "    second_line = lines[1].split()\n",
    "    library_description = lines[2:]\n",
    "\n",
    "    for n_first in range(len(first_line)):\n",
    "        first_line[n_first] = int(first_line[n_first])\n",
    "    \n",
    "    for n_sec in range(len(second_line)):\n",
    "        second_line[n_sec] = int(second_line[n_sec])\n",
    "    \n",
    "    lib_desc_transformed = []\n",
    "    for n_lib in range(int(len(library_description) / 2)):\n",
    "        lib_first_line = library_description[2 * n_lib].split()\n",
    "        lib_book_line = library_description[2 * n_lib + 1].split()\n",
    "    \n",
    "        for n_num in range(len(lib_first_line)):\n",
    "             lib_first_line[n_num] = int(lib_first_line[n_num])\n",
    "        for n_num in range(len(lib_book_line)):\n",
    "            lib_book_line[n_num] = int(lib_book_line[n_num])\n",
    "    \n",
    "        lib_desc_transformed.append([lib_first_line, lib_book_line])\n",
    "\n",
    "    return(first_line,second_line,lib_desc_transformed)"
   ]
  },
  {
   "cell_type": "code",
   "execution_count": 33,
   "metadata": {},
   "outputs": [],
   "source": [
    "first_line, second_line, lib_desc_transformed = get_data('datasets/a_example.txt')"
   ]
  },
  {
   "cell_type": "code",
   "execution_count": 34,
   "metadata": {},
   "outputs": [
    {
     "name": "stdout",
     "output_type": "stream",
     "text": [
      "[6, 2, 7]\n",
      "[1, 2, 3, 6, 5, 4]\n",
      "[[[5, 2, 2], [0, 1, 2, 3, 4]], [[4, 3, 1], [0, 2, 3, 5]]]\n"
     ]
    }
   ],
   "source": [
    "print(first_line)\n",
    "print(second_line)\n",
    "print(lib_desc_transformed)"
   ]
  },
  {
   "cell_type": "code",
   "execution_count": 8,
   "metadata": {},
   "outputs": [],
   "source": [
    "nb_books = first_line[0]\n",
    "nb_libraries = first_line[1]\n",
    "nb_days = first_line[2]\n",
    "book_scores = second_line\n",
    "list_lib_desc = lib_desc_transformed  # [nbbooks, signupdays, booksperday], list_of_bookids"
   ]
  },
  {
   "cell_type": "code",
   "execution_count": null,
   "metadata": {},
   "outputs": [],
   "source": [
    "def get_library(list_lib_desc):\n",
    "    \n",
    "    lib_dict = {}\n",
    "    \n",
    "    for i, lib in enumerate(list_lib_desc):\n",
    "        lib_dict[key] = i\n",
    "        for b in lib[1]:\n",
    "            score += get_book_score(b)\n",
    "    \n",
    "    return(lib_ordered_list)"
   ]
  },
  {
   "cell_type": "code",
   "execution_count": null,
   "metadata": {},
   "outputs": [],
   "source": [
    "def get_lib_score (book_list):\n",
    "    \n",
    "    \n",
    "    return(score)"
   ]
  },
  {
   "cell_type": "code",
   "execution_count": 38,
   "metadata": {},
   "outputs": [],
   "source": [
    "def get_book_score (book_id):\n",
    "    \n",
    "    score = book_scores[book_id]\n",
    "    \n",
    "    return(score)"
   ]
  },
  {
   "cell_type": "code",
   "execution_count": 41,
   "metadata": {},
   "outputs": [
    {
     "data": {
      "text/plain": [
       "1"
      ]
     },
     "execution_count": 41,
     "metadata": {},
     "output_type": "execute_result"
    }
   ],
   "source": [
    "lib_score = get_book_score(0)\n",
    "lib_score"
   ]
  },
  {
   "cell_type": "code",
   "execution_count": 28,
   "metadata": {},
   "outputs": [],
   "source": [
    "list_book_dict = {}\n",
    "\n",
    "\n",
    "for i, lib in enumerate (list_lib_desc):\n",
    "    \n",
    "    nb_scan_books = lib[0][0]\n",
    "    \n",
    "    books_in_order = lib[1]\n",
    "    \n",
    "    list_book_dict[i] = (nb_scan_books, books_in_order)\n",
    "    \n",
    "nb_libraries = i+1"
   ]
  },
  {
   "cell_type": "code",
   "execution_count": 29,
   "metadata": {},
   "outputs": [
    {
     "data": {
      "text/plain": [
       "({0: (5, [0, 1, 2, 3, 4]), 1: (4, [0, 2, 3, 5])}, 2)"
      ]
     },
     "execution_count": 29,
     "metadata": {},
     "output_type": "execute_result"
    }
   ],
   "source": [
    "list_book_dict, nb_libraries"
   ]
  },
  {
   "cell_type": "code",
   "execution_count": 35,
   "metadata": {},
   "outputs": [
    {
     "name": "stdout",
     "output_type": "stream",
     "text": [
      "Wall time: 1.39 ms\n"
     ]
    }
   ],
   "source": [
    "%%time\n",
    "with open('datasets/sub_output', 'w') as f:\n",
    "    f.write(str(nb_libraries)+'\\n')\n",
    "    for i, key in enumerate(list_book_dict):\n",
    "        f.write(str(key)+' '+ str(list_book_dict[key][0])+'\\n') # idlib nbscannedbooks\n",
    "        k =  ' '.join(map(str, list_book_dict[key][1]))\n",
    "        f.write(k+'\\n') # ids of scanned books"
   ]
  },
  {
   "cell_type": "code",
   "execution_count": null,
   "metadata": {},
   "outputs": [],
   "source": [
    "'b_read_on.txt'\n",
    "'c_incunabula.txt'\n",
    "'d_tough_choices.txt'\n",
    "'e_so_many_books.txt'\n",
    "'f_libraries_of_the_world.txt'"
   ]
  }
 ],
 "metadata": {
  "kernelspec": {
   "display_name": "Python 3",
   "language": "python",
   "name": "python3"
  },
  "language_info": {
   "codemirror_mode": {
    "name": "ipython",
    "version": 3
   },
   "file_extension": ".py",
   "mimetype": "text/x-python",
   "name": "python",
   "nbconvert_exporter": "python",
   "pygments_lexer": "ipython3",
   "version": "3.7.0"
  }
 },
 "nbformat": 4,
 "nbformat_minor": 2
}
