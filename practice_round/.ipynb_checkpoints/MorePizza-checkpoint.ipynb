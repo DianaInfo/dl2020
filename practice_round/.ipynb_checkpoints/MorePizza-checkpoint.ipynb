{
 "cells": [
  {
   "cell_type": "code",
   "execution_count": 1,
   "metadata": {},
   "outputs": [],
   "source": [
    "# d number of slices of pizza per type (dict)\n",
    "# x output number of types of pizza (int)\n",
    "# y types of pizzas orders (list)"
   ]
  },
  {
   "cell_type": "code",
   "execution_count": 179,
   "metadata": {},
   "outputs": [],
   "source": [
    "from pathlib import Path\n",
    "\n",
    "data_path = Path('./practice_round/datasets')\n",
    "\n",
    "def get_data(datafile):\n",
    "    data = []\n",
    "    with open(data_path/datafile) as f:\n",
    "        for line in f:\n",
    "            data.append(line.strip().split(' '))\n",
    "    \n",
    "    max_slices = int(data[0][0])\n",
    "    total_types = data[0][1]\n",
    "    list_types = data[1]\n",
    "\n",
    "    return(data, max_slices, total_types, list_types)\n",
    "\n",
    "def get_pizza_combination(max_slices, list_types):\n",
    "    \n",
    "    result_list = []\n",
    "    all_total = 0\n",
    "    \n",
    "    all_total = sum(map(int,list_types))\n",
    "    result_list = [j for j, type in enumerate(list_types)]\n",
    "  \n",
    "    \n",
    "    for i, type in enumerate(list_types):\n",
    "        if all_total <= max_slices:\n",
    "            break\n",
    "        \n",
    "        if len(result_list)> 1:\n",
    "            result_list.pop(0)\n",
    "            all_total -= int(type)\n",
    "    \n",
    "    added_results = []\n",
    "            \n",
    "    for i, type in enumerate(list_types):\n",
    "        \n",
    "        if i > len(list_types) - len(result_list) -1:\n",
    "            break\n",
    "\n",
    "        added_results.append(i)\n",
    "        all_total += int(type)        \n",
    "          \n",
    "        \n",
    "        if all_total > max_slices:\n",
    "            added_results.pop(len(added_results)-1)\n",
    "            all_total -= int(type)\n",
    "            break\n",
    "            \n",
    "    if added_results:    \n",
    "        added_results.extend(result_list)\n",
    "        results = [len(added_results), added_results] \n",
    "    else:\n",
    "        results = [len(result_list), result_list]\n",
    "    \n",
    "    return (results)\n",
    "\n",
    "\n",
    "# output file 2 lines nb of types of pizza=nb elements in second line \\n ID of type of pizza ordered each type ordered once\n",
    "def write_file(datafile, results):\n",
    "    filename = 'sub_'+datafile\n",
    "    with open(data_path/filename, 'w') as f:\n",
    "        line1 = results[0]\n",
    "        line2 = results[1]\n",
    "        k = \" \".join(map(str,line2))\n",
    "        f.write(str(line1)+'\\n'+k)"
   ]
  },
  {
   "cell_type": "code",
   "execution_count": 180,
   "metadata": {},
   "outputs": [
    {
     "name": "stdout",
     "output_type": "stream",
     "text": [
      "Wall time: 1.68 ms\n"
     ]
    }
   ],
   "source": [
    "%%time\n",
    "data, max_slices, total_types, list_types = get_data('a_example.in')\n",
    "results = get_pizza_combination(max_slices, list_types)\n",
    "write_file('a_example.in', results)\n"
   ]
  },
  {
   "cell_type": "code",
   "execution_count": 181,
   "metadata": {},
   "outputs": [
    {
     "name": "stdout",
     "output_type": "stream",
     "text": [
      "Wall time: 656 µs\n"
     ]
    }
   ],
   "source": [
    "%%time\n",
    "data, max_slices, total_types, list_types = get_data('b_small.in')\n",
    "results = get_pizza_combination(max_slices, list_types)\n",
    "write_file('b_small.in', results)"
   ]
  },
  {
   "cell_type": "code",
   "execution_count": 182,
   "metadata": {},
   "outputs": [
    {
     "name": "stdout",
     "output_type": "stream",
     "text": [
      "Wall time: 997 µs\n"
     ]
    }
   ],
   "source": [
    "%%time\n",
    "data, max_slices, total_types, list_types = get_data('c_medium.in')\n",
    "results = get_pizza_combination(max_slices, list_types)\n",
    "write_file('c_medium.in', results)"
   ]
  },
  {
   "cell_type": "code",
   "execution_count": 183,
   "metadata": {},
   "outputs": [
    {
     "name": "stdout",
     "output_type": "stream",
     "text": [
      "Wall time: 1.99 ms\n"
     ]
    }
   ],
   "source": [
    "%%time\n",
    "data, max_slices, total_types, list_types = get_data('d_quite_big.in')\n",
    "results = get_pizza_combination(max_slices, list_types)\n",
    "write_file('d_quite_big.in', results)"
   ]
  },
  {
   "cell_type": "code",
   "execution_count": 184,
   "metadata": {},
   "outputs": [
    {
     "name": "stdout",
     "output_type": "stream",
     "text": [
      "Wall time: 17.5 ms\n"
     ]
    }
   ],
   "source": [
    "%%time\n",
    "data, max_slices, total_types, list_types = get_data('e_also_big.in')\n",
    "results = get_pizza_combination(max_slices, list_types)\n",
    "write_file('e_also_big.in', results)"
   ]
  },
  {
   "cell_type": "code",
   "execution_count": null,
   "metadata": {},
   "outputs": [],
   "source": []
  },
  {
   "cell_type": "code",
   "execution_count": null,
   "metadata": {},
   "outputs": [],
   "source": []
  },
  {
   "cell_type": "code",
   "execution_count": null,
   "metadata": {},
   "outputs": [],
   "source": [
    "# working v2\n",
    "def get_pizza_comination2(max_slices, list_types):\n",
    "    \n",
    "    result_list = []\n",
    "    total = 0\n",
    "    \n",
    "    for i, type in enumerate(list_types):\n",
    "\n",
    "        result_list.append(i)\n",
    "        n = len(result_list)\n",
    "        total += int(type)\n",
    "\n",
    "        if total > max_slices:\n",
    "            total -= int(type)\n",
    "            result_list.pop(n-1)\n",
    "\n",
    "    results = [len(result_list), result_list]\n",
    "    \n",
    "    return (results)"
   ]
  }
 ],
 "metadata": {
  "kernelspec": {
   "display_name": "Python 3",
   "language": "python",
   "name": "python3"
  },
  "language_info": {
   "codemirror_mode": {
    "name": "ipython",
    "version": 3
   },
   "file_extension": ".py",
   "mimetype": "text/x-python",
   "name": "python",
   "nbconvert_exporter": "python",
   "pygments_lexer": "ipython3",
   "version": "3.7.3"
  }
 },
 "nbformat": 4,
 "nbformat_minor": 2
}
