{
 "cells": [
  {
   "cell_type": "markdown",
   "metadata": {},
   "source": [
    "# Google Hash Code practice round"
   ]
  },
  {
   "cell_type": "markdown",
   "metadata": {},
   "source": [
    "Read the input file and define the variables."
   ]
  },
  {
   "cell_type": "code",
   "execution_count": 1,
   "metadata": {},
   "outputs": [],
   "source": [
    "with open('../datasets/a_example.in', 'r') as f:\n",
    "    lines = f.readlines()"
   ]
  },
  {
   "cell_type": "code",
   "execution_count": 2,
   "metadata": {},
   "outputs": [
    {
     "data": {
      "text/plain": [
       "['17 4\\n', '2 5 6 8\\n']"
      ]
     },
     "execution_count": 2,
     "metadata": {},
     "output_type": "execute_result"
    }
   ],
   "source": [
    "lines"
   ]
  },
  {
   "cell_type": "code",
   "execution_count": 3,
   "metadata": {},
   "outputs": [
    {
     "name": "stdout",
     "output_type": "stream",
     "text": [
      "max_slices (M): 17\n",
      "types_pizza (N): 4\n",
      "list_pizza_sizes: ['2', '5', '6', '8']\n"
     ]
    }
   ],
   "source": [
    "max_slices, types_pizza = lines[0][:-1].split()\n",
    "list_pizza_sizes = lines[1][:-1].split()\n",
    "\n",
    "print('max_slices (M): ' + str(max_slices))\n",
    "print('types_pizza (N): ' + str(types_pizza))\n",
    "print('list_pizza_sizes: ' + str(list_pizza_sizes))"
   ]
  },
  {
   "cell_type": "markdown",
   "metadata": {},
   "source": [
    "### Get the number of slices so that you order as many pizza slices as possible, but not more than the maximum number."
   ]
  },
  {
   "cell_type": "markdown",
   "metadata": {},
   "source": [
    "Convert string sizes of list_pizza_slizes to integers."
   ]
  },
  {
   "cell_type": "code",
   "execution_count": 4,
   "metadata": {},
   "outputs": [
    {
     "name": "stdout",
     "output_type": "stream",
     "text": [
      "max_slices (M): 17\n",
      "types_pizza (N): 4\n",
      "pizza_sizes: [2, 5, 6, 8]\n"
     ]
    }
   ],
   "source": [
    "pizza_sizes = []\n",
    "\n",
    "for pizza_size in list_pizza_sizes:\n",
    "    pizza_sizes.append(int(pizza_size))\n",
    "    \n",
    "print('max_slices (M): ' + str(max_slices))\n",
    "print('types_pizza (N): ' + str(types_pizza))\n",
    "print('pizza_sizes: ' + str(pizza_sizes))"
   ]
  }
 ],
 "metadata": {
  "kernelspec": {
   "display_name": "Python 3",
   "language": "python",
   "name": "python3"
  },
  "language_info": {
   "codemirror_mode": {
    "name": "ipython",
    "version": 3
   },
   "file_extension": ".py",
   "mimetype": "text/x-python",
   "name": "python",
   "nbconvert_exporter": "python",
   "pygments_lexer": "ipython3",
   "version": "3.7.4"
  }
 },
 "nbformat": 4,
 "nbformat_minor": 2
}
