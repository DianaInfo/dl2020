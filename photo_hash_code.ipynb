{
  "nbformat": 4,
  "nbformat_minor": 0,
  "metadata": {
    "colab": {
      "name": "photo_hash_code.ipynb",
      "provenance": [],
      "mount_file_id": "1g8hbT78O4LV6LCWDaRR_h65PLefbshKr",
      "authorship_tag": "ABX9TyOsGDx3nTRScg4hBLHofzyq",
      "include_colab_link": true
    },
    "kernelspec": {
      "name": "python3",
      "display_name": "Python 3"
    }
  },
  "cells": [
    {
      "cell_type": "markdown",
      "metadata": {
        "id": "view-in-github",
        "colab_type": "text"
      },
      "source": [
        "<a href=\"https://colab.research.google.com/github/DianaInfo/dl2020/blob/master/photo_hash_code.ipynb\" target=\"_parent\"><img src=\"https://colab.research.google.com/assets/colab-badge.svg\" alt=\"Open In Colab\"/></a>"
      ]
    },
    {
      "cell_type": "code",
      "metadata": {
        "id": "4RTp7vkbfXfm",
        "colab_type": "code",
        "colab": {}
      },
      "source": [
        "with open('/content/drive/My Drive/a_example.txt', 'r') as f:\n",
        "  example=f.read()"
      ],
      "execution_count": 0,
      "outputs": []
    },
    {
      "cell_type": "code",
      "metadata": {
        "id": "fWFHGfGXg5bo",
        "colab_type": "code",
        "colab": {
          "base_uri": "https://localhost:8080/",
          "height": 34
        },
        "outputId": "69c7c052-9243-418c-b378-c29583370956"
      },
      "source": [
        "example"
      ],
      "execution_count": 6,
      "outputs": [
        {
          "output_type": "execute_result",
          "data": {
            "text/plain": [
              "'4\\nH 3 cat beach sun\\nV 2 selfie smile\\nV 2 garden selfie\\nH 2 garden cat\\n'"
            ]
          },
          "metadata": {
            "tags": []
          },
          "execution_count": 6
        }
      ]
    },
    {
      "cell_type": "code",
      "metadata": {
        "id": "vWG6EHishtdo",
        "colab_type": "code",
        "colab": {
          "base_uri": "https://localhost:8080/",
          "height": 118
        },
        "outputId": "f35399bf-eea3-42bb-dfcf-8ba359db8f0f"
      },
      "source": [
        "arr=[]\n",
        "h = example.split('''\\n''')\n",
        "#print(len(h))\n",
        "for l in h:\n",
        "  print(l)\n",
        "  arr.append(l)"
      ],
      "execution_count": 9,
      "outputs": [
        {
          "output_type": "stream",
          "text": [
            "4\n",
            "H 3 cat beach sun\n",
            "V 2 selfie smile\n",
            "V 2 garden selfie\n",
            "H 2 garden cat\n",
            "\n"
          ],
          "name": "stdout"
        }
      ]
    }
  ]
}